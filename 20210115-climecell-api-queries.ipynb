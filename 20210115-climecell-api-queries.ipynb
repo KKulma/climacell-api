{
 "cells": [
  {
   "cell_type": "code",
   "execution_count": 1,
   "metadata": {},
   "outputs": [],
   "source": [
    "import requests\n",
    "import config"
   ]
  },
  {
   "cell_type": "code",
   "execution_count": 2,
   "metadata": {},
   "outputs": [],
   "source": [
    "# static parameters\n",
    "API_KEY = config.api_key\n",
    "headers = {'content-type': 'application/json'}"
   ]
  },
  {
   "cell_type": "markdown",
   "metadata": {},
   "source": [
    "## locations endpoint"
   ]
  },
  {
   "cell_type": "code",
   "execution_count": null,
   "metadata": {
    "collapsed": true
   },
   "outputs": [],
   "source": [
    "url = \"https://data.climacell.co/v4/locations\"\n",
    "querystring = {\"apikey\": API_KEY}"
   ]
  },
  {
   "cell_type": "code",
   "execution_count": null,
   "metadata": {},
   "outputs": [],
   "source": [
    "response = requests.get(url, headers = headers, params = querystring)\n",
    "print(response.status_code)"
   ]
  },
  {
   "cell_type": "code",
   "execution_count": null,
   "metadata": {},
   "outputs": [],
   "source": [
    "response.json()"
   ]
  },
  {
   "cell_type": "markdown",
   "metadata": {},
   "source": [
    "## insights endopoint"
   ]
  },
  {
   "cell_type": "code",
   "execution_count": null,
   "metadata": {},
   "outputs": [],
   "source": [
    "url = \"https://data.climacell.co/v4/insights\"\n",
    "querystring = {\"apikey\": API_KEY}\n",
    "response = requests.request(\"GET\", url, params = querystring)\n",
    "\n",
    "print(response.json())"
   ]
  },
  {
   "cell_type": "markdown",
   "metadata": {},
   "source": [
    "## events endopoint"
   ]
  },
  {
   "cell_type": "code",
   "execution_count": null,
   "metadata": {},
   "outputs": [],
   "source": [
    "## location formats are described on https://docs.climacell.co/reference/api-formats\n",
    "## insights values can be looked up using the insights endpoint\n",
    "\n",
    "url = \"https://data.climacell.co/v4/events\"\n",
    "querystring = {\"apikey\": API_KEY,\n",
    "               \"buffer\":\"1\",\n",
    "               \"location\": \"10.1, 125.6\",\n",
    "               \"insights\":\"fires\"}\n",
    "response = requests.request(\"GET\", url, params=querystring)\n",
    "\n",
    "print(response.json())"
   ]
  },
  {
   "cell_type": "markdown",
   "metadata": {},
   "source": [
    "## timeline endopoint"
   ]
  },
  {
   "cell_type": "code",
   "execution_count": null,
   "metadata": {},
   "outputs": [],
   "source": [
    "# fields are described here https://docs.climacell.co/reference/data-layers-overview\n",
    "url = \"https://data.climacell.co/v4/timelines\"\n",
    "querystring = {\"apikey\": API_KEY,\n",
    "               \"location\": \"10.1, 125.6\",\n",
    "               \"timesteps\":\"1h\",\n",
    "               \"units\":\"metric\",\n",
    "               \"fields\":\"grassGrassIndex\"}\n",
    "\n",
    "response = requests.request(\"GET\", url, params=querystring)\n",
    "\n",
    "print(response.json())"
   ]
  }
 ],
 "metadata": {
  "kernelspec": {
   "display_name": "Python 3",
   "language": "python",
   "name": "python3"
  },
  "language_info": {
   "codemirror_mode": {
    "name": "ipython",
    "version": 3
   },
   "file_extension": ".py",
   "mimetype": "text/x-python",
   "name": "python",
   "nbconvert_exporter": "python",
   "pygments_lexer": "ipython3",
   "version": "3.6.10"
  }
 },
 "nbformat": 4,
 "nbformat_minor": 2
}
